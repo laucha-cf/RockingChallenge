{
 "cells": [
  {
   "cell_type": "code",
   "execution_count": 2,
   "metadata": {},
   "outputs": [],
   "source": [
    "import pandas as pd\n",
    "import numpy as np"
   ]
  },
  {
   "cell_type": "code",
   "execution_count": 10,
   "metadata": {},
   "outputs": [],
   "source": [
    "df_disney = pd.read_csv('raw_data/disney_plus_titles.csv')\n",
    "df_netflix = pd.read_csv('raw_data/netflix_titles.csv', sep=';')"
   ]
  },
  {
   "attachments": {},
   "cell_type": "markdown",
   "metadata": {},
   "source": [
    "#### Dataframe `df_netflix`"
   ]
  },
  {
   "cell_type": "code",
   "execution_count": 27,
   "metadata": {},
   "outputs": [
    {
     "name": "stdout",
     "output_type": "stream",
     "text": [
      "<class 'pandas.core.frame.DataFrame'>\n",
      "RangeIndex: 8809 entries, 0 to 8808\n",
      "Data columns (total 13 columns):\n",
      " #   Column        Non-Null Count  Dtype         \n",
      "---  ------        --------------  -----         \n",
      " 0   id            8809 non-null   object        \n",
      " 1   type_id       8809 non-null   object        \n",
      " 2   title         8809 non-null   object        \n",
      " 3   director      8809 non-null   object        \n",
      " 4   cast          8809 non-null   object        \n",
      " 5   country       8809 non-null   object        \n",
      " 6   date_added    8797 non-null   datetime64[ns]\n",
      " 7   release_year  8809 non-null   object        \n",
      " 8   rating        8809 non-null   object        \n",
      " 9   duration      8809 non-null   object        \n",
      " 10  listed_in     8809 non-null   object        \n",
      " 11  description   8807 non-null   object        \n",
      " 12  source        8809 non-null   object        \n",
      "dtypes: datetime64[ns](1), object(12)\n",
      "memory usage: 894.8+ KB\n"
     ]
    },
    {
     "data": {
      "text/html": [
       "<div>\n",
       "<style scoped>\n",
       "    .dataframe tbody tr th:only-of-type {\n",
       "        vertical-align: middle;\n",
       "    }\n",
       "\n",
       "    .dataframe tbody tr th {\n",
       "        vertical-align: top;\n",
       "    }\n",
       "\n",
       "    .dataframe thead th {\n",
       "        text-align: right;\n",
       "    }\n",
       "</style>\n",
       "<table border=\"1\" class=\"dataframe\">\n",
       "  <thead>\n",
       "    <tr style=\"text-align: right;\">\n",
       "      <th></th>\n",
       "      <th>id</th>\n",
       "      <th>type_id</th>\n",
       "      <th>title</th>\n",
       "      <th>director</th>\n",
       "      <th>cast</th>\n",
       "      <th>country</th>\n",
       "      <th>date_added</th>\n",
       "      <th>release_year</th>\n",
       "      <th>rating</th>\n",
       "      <th>duration</th>\n",
       "      <th>listed_in</th>\n",
       "      <th>description</th>\n",
       "      <th>source</th>\n",
       "    </tr>\n",
       "  </thead>\n",
       "  <tbody>\n",
       "    <tr>\n",
       "      <th>0</th>\n",
       "      <td>0</td>\n",
       "      <td>1</td>\n",
       "      <td>Dick Johnson Is Dead</td>\n",
       "      <td>Kirsten Johnson</td>\n",
       "      <td>No Cast</td>\n",
       "      <td>[United States]</td>\n",
       "      <td>2021-09-25</td>\n",
       "      <td>2020</td>\n",
       "      <td>PG-13</td>\n",
       "      <td>90 min</td>\n",
       "      <td>[Documentaries]</td>\n",
       "      <td>As her father nears the end of his life, filmm...</td>\n",
       "      <td>Netflix</td>\n",
       "    </tr>\n",
       "    <tr>\n",
       "      <th>1</th>\n",
       "      <td>1</td>\n",
       "      <td>2</td>\n",
       "      <td>Blood &amp; Water</td>\n",
       "      <td>No Director</td>\n",
       "      <td>[Ama Qamata, Khosi Ngema, Gail Mabalane, Thaba...</td>\n",
       "      <td>[South Africa]</td>\n",
       "      <td>2021-09-24</td>\n",
       "      <td>2021</td>\n",
       "      <td>TV-MA</td>\n",
       "      <td>2 Seasons</td>\n",
       "      <td>[International TV Shows, TV Dramas, TV Mysteries]</td>\n",
       "      <td>After crossing paths at a party, a Cape Town t...</td>\n",
       "      <td>Netflix</td>\n",
       "    </tr>\n",
       "    <tr>\n",
       "      <th>2</th>\n",
       "      <td>2</td>\n",
       "      <td>2</td>\n",
       "      <td>Ganglands</td>\n",
       "      <td>Julien Leclercq</td>\n",
       "      <td>[Sami Bouajila, Tracy Gotoas, Samuel Jouy, Nab...</td>\n",
       "      <td>No Country</td>\n",
       "      <td>2021-09-24</td>\n",
       "      <td>2021</td>\n",
       "      <td>TV-MA</td>\n",
       "      <td>1 Season</td>\n",
       "      <td>[Crime TV Shows, International TV Shows, TV Ac...</td>\n",
       "      <td>To protect his family from a powerful drug lor...</td>\n",
       "      <td>Netflix</td>\n",
       "    </tr>\n",
       "  </tbody>\n",
       "</table>\n",
       "</div>"
      ],
      "text/plain": [
       "  id type_id                 title         director  \\\n",
       "0  0       1  Dick Johnson Is Dead  Kirsten Johnson   \n",
       "1  1       2         Blood & Water      No Director   \n",
       "2  2       2             Ganglands  Julien Leclercq   \n",
       "\n",
       "                                                cast          country  \\\n",
       "0                                            No Cast  [United States]   \n",
       "1  [Ama Qamata, Khosi Ngema, Gail Mabalane, Thaba...   [South Africa]   \n",
       "2  [Sami Bouajila, Tracy Gotoas, Samuel Jouy, Nab...       No Country   \n",
       "\n",
       "  date_added release_year rating   duration  \\\n",
       "0 2021-09-25         2020  PG-13     90 min   \n",
       "1 2021-09-24         2021  TV-MA  2 Seasons   \n",
       "2 2021-09-24         2021  TV-MA   1 Season   \n",
       "\n",
       "                                           listed_in  \\\n",
       "0                                    [Documentaries]   \n",
       "1  [International TV Shows, TV Dramas, TV Mysteries]   \n",
       "2  [Crime TV Shows, International TV Shows, TV Ac...   \n",
       "\n",
       "                                         description   source  \n",
       "0  As her father nears the end of his life, filmm...  Netflix  \n",
       "1  After crossing paths at a party, a Cape Town t...  Netflix  \n",
       "2  To protect his family from a powerful drug lor...  Netflix  "
      ]
     },
     "execution_count": 27,
     "metadata": {},
     "output_type": "execute_result"
    }
   ],
   "source": [
    "df_netflix.info()\n",
    "df_netflix.shape\n",
    "df_netflix.head(3)"
   ]
  },
  {
   "attachments": {},
   "cell_type": "markdown",
   "metadata": {},
   "source": [
    "- Dividimos los campos `cast`, `country` y `listed_in`."
   ]
  },
  {
   "cell_type": "code",
   "execution_count": 12,
   "metadata": {},
   "outputs": [],
   "source": [
    "df_netflix['cast'] = df_netflix['cast'].str.split(', ').tolist()\n",
    "df_netflix['country'] = df_netflix['country'].str.split(', ').tolist()\n",
    "df_netflix['listed_in'] = df_netflix['listed_in'].str.split(', ').tolist()"
   ]
  },
  {
   "attachments": {},
   "cell_type": "markdown",
   "metadata": {},
   "source": [
    "- Reemplazamos los NULL por valores default en las siguientes columnas:\n",
    "- `title`,  `director`,  `cast`,  `country`,\t `release_year`,  `rating`,\t`duration`,\t`listed_in`,\t`description`."
   ]
  },
  {
   "cell_type": "code",
   "execution_count": 14,
   "metadata": {},
   "outputs": [],
   "source": [
    "df_netflix['title'] = df_netflix['title'].fillna(value='No Title')\n",
    "df_netflix['director'] = df_netflix['director'].fillna(value='No Director')\n",
    "df_netflix['cast'] = df_netflix['cast'].fillna(value='No Cast')\n",
    "df_netflix['country'] = df_netflix['country'].fillna(value='No Country')\n",
    "df_netflix['release_year'] = df_netflix['release_year'].fillna(value=0)\n",
    "df_netflix['rating'] = df_netflix['rating'].fillna(value='No Rating')\n",
    "df_netflix['duration'] = df_netflix['duration'].fillna(value='No Duration')\n",
    "df_netflix['listed_in'] = df_netflix['listed_in'].fillna(value='No Listed')"
   ]
  },
  {
   "cell_type": "markdown",
   "metadata": {},
   "source": [
    "- `show_id` y `release_year` deberían ser de tipo entero."
   ]
  },
  {
   "cell_type": "code",
   "execution_count": 15,
   "metadata": {},
   "outputs": [],
   "source": [
    "#Creamos una nueva columna llamada 'id' y eliminamos 'show_id'\n",
    "df_netflix.insert(loc=0, column='id', value=range(len(df_netflix)))\n",
    "df_netflix.drop('show_id', inplace=True, axis=1)"
   ]
  },
  {
   "cell_type": "code",
   "execution_count": 16,
   "metadata": {},
   "outputs": [
    {
     "data": {
      "text/plain": [
       "array(['2020', '2021', '1993', '2018', '1996', '1998', '1997', '2010',\n",
       "       '2013', '2017', '1975', '1978', '1983', '1987', '2012', '2001',\n",
       "       '2014', '2002', '2003', '2004', '2011', '2008', '2009', '2007',\n",
       "       '2005', '2006', '1994', '2015', '2019', '2016', '1982', '1989',\n",
       "       '1990', '1991', '1999', '1986', '1992', '1984', '1980', '1961',\n",
       "       '2000', '1995', '1985', '1976', '1959', '1988', '1981', '1972',\n",
       "       '1964', '1945', '1954', '1979', '1958', '1956', '1963', '1970',\n",
       "       '1973', '1925', '1974', '1960', '1966', '1971', '1962', '1969',\n",
       "       '1977', '1967', '1968', '1965', '1946', '1942', '1955', 0,\n",
       "       '40 min', '1944', '1947', '1943'], dtype=object)"
      ]
     },
     "execution_count": 16,
     "metadata": {},
     "output_type": "execute_result"
    }
   ],
   "source": [
    "#Vemos que, en release_year, existen datos nulos (NaN) y valores erróneos (40 min)\n",
    "df_netflix['release_year'].unique()"
   ]
  },
  {
   "cell_type": "code",
   "execution_count": 17,
   "metadata": {},
   "outputs": [],
   "source": [
    "#Cambiamos el tipo de dato de release_year\n",
    "df_netflix['release_year'] = df_netflix['release_year'].replace(np.nan, '0')\n",
    "df_netflix['release_year'] = df_netflix['release_year'].replace('40 min', '0')\n",
    "\n",
    "#Ahora si podemos realizar la conversión\n",
    "df_netflix = df_netflix.astype({'release_year':'int'})"
   ]
  },
  {
   "cell_type": "code",
   "execution_count": 18,
   "metadata": {},
   "outputs": [
    {
     "data": {
      "text/plain": [
       "dtype('int32')"
      ]
     },
     "execution_count": 18,
     "metadata": {},
     "output_type": "execute_result"
    }
   ],
   "source": [
    "df_netflix['release_year'].dtype"
   ]
  },
  {
   "attachments": {},
   "cell_type": "markdown",
   "metadata": {},
   "source": [
    "- Creamos tabla separada para la descripción de `type`.\n",
    "- `type` debería tener solo numeros enteros asociados a cada tipo."
   ]
  },
  {
   "cell_type": "code",
   "execution_count": 19,
   "metadata": {},
   "outputs": [
    {
     "data": {
      "text/plain": [
       "array(['Movie', 'TV Show', nan, 'William Wyler'], dtype=object)"
      ]
     },
     "execution_count": 19,
     "metadata": {},
     "output_type": "execute_result"
    }
   ],
   "source": [
    "df_netflix.type.unique()"
   ]
  },
  {
   "cell_type": "code",
   "execution_count": 20,
   "metadata": {},
   "outputs": [],
   "source": [
    "#Existen valores nulos (NaN) y erróneos ('William Wyler'). Los reemplazamos por 'No Type'\n",
    "df_netflix['type'].fillna(value='No Type', inplace=True)\n",
    "df_netflix['type'] = df_netflix['type'].str.replace('William Wyler', 'No Type')"
   ]
  },
  {
   "cell_type": "code",
   "execution_count": 21,
   "metadata": {},
   "outputs": [
    {
     "data": {
      "text/plain": [
       "array(['Movie', 'TV Show', 'No Type'], dtype=object)"
      ]
     },
     "execution_count": 21,
     "metadata": {},
     "output_type": "execute_result"
    }
   ],
   "source": [
    "df_netflix.type.unique()"
   ]
  },
  {
   "cell_type": "code",
   "execution_count": 22,
   "metadata": {},
   "outputs": [
    {
     "data": {
      "text/html": [
       "<div>\n",
       "<style scoped>\n",
       "    .dataframe tbody tr th:only-of-type {\n",
       "        vertical-align: middle;\n",
       "    }\n",
       "\n",
       "    .dataframe tbody tr th {\n",
       "        vertical-align: top;\n",
       "    }\n",
       "\n",
       "    .dataframe thead th {\n",
       "        text-align: right;\n",
       "    }\n",
       "</style>\n",
       "<table border=\"1\" class=\"dataframe\">\n",
       "  <thead>\n",
       "    <tr style=\"text-align: right;\">\n",
       "      <th></th>\n",
       "      <th>type</th>\n",
       "      <th>type_id</th>\n",
       "    </tr>\n",
       "  </thead>\n",
       "  <tbody>\n",
       "    <tr>\n",
       "      <th>0</th>\n",
       "      <td>Movie</td>\n",
       "      <td>1</td>\n",
       "    </tr>\n",
       "    <tr>\n",
       "      <th>1</th>\n",
       "      <td>TV Show</td>\n",
       "      <td>2</td>\n",
       "    </tr>\n",
       "    <tr>\n",
       "      <th>2</th>\n",
       "      <td>No Type</td>\n",
       "      <td>0</td>\n",
       "    </tr>\n",
       "  </tbody>\n",
       "</table>\n",
       "</div>"
      ],
      "text/plain": [
       "      type  type_id\n",
       "0    Movie        1\n",
       "1  TV Show        2\n",
       "2  No Type        0"
      ]
     },
     "execution_count": 22,
     "metadata": {},
     "output_type": "execute_result"
    }
   ],
   "source": [
    "#Creamos un nuevo dataframe con las descripciones de los tipos y sus id\n",
    "df_type = pd.DataFrame({\n",
    "    'type': df_netflix['type'].unique()\n",
    "    })\n",
    "df_type['type_id'] = df_type['type'].replace({'Movie':1, 'TV Show':2, 'No Type':0})\n",
    "df_type"
   ]
  },
  {
   "cell_type": "code",
   "execution_count": 23,
   "metadata": {},
   "outputs": [],
   "source": [
    "#Creamos una nueva columna seteada en 0 por default\n",
    "df_netflix.insert(loc=1, column='type_id', value=0 )\n",
    "\n",
    "#Reemplazamos cada type por un valor entero asociado y eliminamos 'type'\n",
    "df_netflix['type_id'] = df_netflix['type'].replace({'Movie':1, 'TV Show':2})\n",
    "df_netflix.drop('type', inplace=True, axis=1)"
   ]
  },
  {
   "cell_type": "markdown",
   "metadata": {},
   "source": [
    "- `date_added` debería ser de tipo datetime 'yyyy-mm-dd'"
   ]
  },
  {
   "cell_type": "code",
   "execution_count": 24,
   "metadata": {},
   "outputs": [],
   "source": [
    "#Reemplazamos la coma por vacío y valores erroneos por vacío\n",
    "df_netflix['date_added'] = df_netflix['date_added'].str.replace(',', '')\n",
    "df_netflix['date_added'] = df_netflix['date_added'].str.replace('TV-PG', '')\n",
    "\n",
    "#Eliminamos los espacios sobrantes\n",
    "df_netflix['date_added'] = df_netflix['date_added'].str.strip()\n",
    "\n",
    "#Reemplazamos los nulos con el valor más frecuente\n",
    "most_frequent_date = df_netflix['date_added'].value_counts().index[0]\n",
    "df_netflix[df_netflix['date_added'].str.strip()==''] = most_frequent_date\n",
    "\n",
    "#Convertimos a tipo datetime\n",
    "df_netflix['date_added'] = pd.to_datetime(df_netflix['date_added'], format='%B %d %Y')"
   ]
  },
  {
   "cell_type": "code",
   "execution_count": 25,
   "metadata": {},
   "outputs": [
    {
     "name": "stdout",
     "output_type": "stream",
     "text": [
      "2021-09-25 00:00:00 datetime64[ns]\n"
     ]
    }
   ],
   "source": [
    "print(df_netflix.date_added[0], df_netflix.date_added.dtypes)"
   ]
  },
  {
   "attachments": {},
   "cell_type": "markdown",
   "metadata": {},
   "source": [
    "- Por último, insertamos una columna que indica ser Netflix."
   ]
  },
  {
   "cell_type": "code",
   "execution_count": 26,
   "metadata": {},
   "outputs": [],
   "source": [
    "df_netflix['source'] = 'Netflix'"
   ]
  },
  {
   "cell_type": "code",
   "execution_count": null,
   "metadata": {},
   "outputs": [],
   "source": [
    "################################################################"
   ]
  },
  {
   "attachments": {},
   "cell_type": "markdown",
   "metadata": {},
   "source": [
    "#### Dataframe `df_disney`"
   ]
  },
  {
   "cell_type": "code",
   "execution_count": 36,
   "metadata": {},
   "outputs": [
    {
     "name": "stdout",
     "output_type": "stream",
     "text": [
      "<class 'pandas.core.frame.DataFrame'>\n",
      "RangeIndex: 1450 entries, 0 to 1449\n",
      "Data columns (total 13 columns):\n",
      " #   Column        Non-Null Count  Dtype         \n",
      "---  ------        --------------  -----         \n",
      " 0   id            1450 non-null   object        \n",
      " 1   type_id       1450 non-null   object        \n",
      " 2   title         1450 non-null   object        \n",
      " 3   director      1450 non-null   object        \n",
      " 4   cast          1450 non-null   object        \n",
      " 5   country       1450 non-null   object        \n",
      " 6   date_added    1447 non-null   datetime64[ns]\n",
      " 7   release_year  1450 non-null   object        \n",
      " 8   rating        1450 non-null   object        \n",
      " 9   duration      1450 non-null   object        \n",
      " 10  listed_in     1450 non-null   object        \n",
      " 11  description   1450 non-null   object        \n",
      " 12  source        1450 non-null   object        \n",
      "dtypes: datetime64[ns](1), object(12)\n",
      "memory usage: 147.4+ KB\n"
     ]
    },
    {
     "data": {
      "text/html": [
       "<div>\n",
       "<style scoped>\n",
       "    .dataframe tbody tr th:only-of-type {\n",
       "        vertical-align: middle;\n",
       "    }\n",
       "\n",
       "    .dataframe tbody tr th {\n",
       "        vertical-align: top;\n",
       "    }\n",
       "\n",
       "    .dataframe thead th {\n",
       "        text-align: right;\n",
       "    }\n",
       "</style>\n",
       "<table border=\"1\" class=\"dataframe\">\n",
       "  <thead>\n",
       "    <tr style=\"text-align: right;\">\n",
       "      <th></th>\n",
       "      <th>id</th>\n",
       "      <th>type_id</th>\n",
       "      <th>title</th>\n",
       "      <th>director</th>\n",
       "      <th>cast</th>\n",
       "      <th>country</th>\n",
       "      <th>date_added</th>\n",
       "      <th>release_year</th>\n",
       "      <th>rating</th>\n",
       "      <th>duration</th>\n",
       "      <th>listed_in</th>\n",
       "      <th>description</th>\n",
       "      <th>source</th>\n",
       "    </tr>\n",
       "  </thead>\n",
       "  <tbody>\n",
       "    <tr>\n",
       "      <th>0</th>\n",
       "      <td>0</td>\n",
       "      <td>1</td>\n",
       "      <td>Duck the Halls: A Mickey Mouse Christmas Special</td>\n",
       "      <td>Alonso Ramirez Ramos, Dave Wasson</td>\n",
       "      <td>[Chris Diamantopoulos, Tony Anselmo, Tress Mac...</td>\n",
       "      <td>No Country</td>\n",
       "      <td>2021-11-26</td>\n",
       "      <td>2016</td>\n",
       "      <td>TV-G</td>\n",
       "      <td>23 min</td>\n",
       "      <td>[Animation, Family]</td>\n",
       "      <td>Join Mickey and the gang as they duck the halls!</td>\n",
       "      <td>Disney</td>\n",
       "    </tr>\n",
       "    <tr>\n",
       "      <th>1</th>\n",
       "      <td>1</td>\n",
       "      <td>1</td>\n",
       "      <td>Ernest Saves Christmas</td>\n",
       "      <td>John Cherry</td>\n",
       "      <td>[Jim Varney, Noelle Parker, Douglas Seale]</td>\n",
       "      <td>No Country</td>\n",
       "      <td>2021-11-26</td>\n",
       "      <td>1988</td>\n",
       "      <td>PG</td>\n",
       "      <td>91 min</td>\n",
       "      <td>[Comedy]</td>\n",
       "      <td>Santa Claus passes his magic bag to a new St. ...</td>\n",
       "      <td>Disney</td>\n",
       "    </tr>\n",
       "    <tr>\n",
       "      <th>2</th>\n",
       "      <td>2</td>\n",
       "      <td>1</td>\n",
       "      <td>Ice Age: A Mammoth Christmas</td>\n",
       "      <td>Karen Disher</td>\n",
       "      <td>[Raymond Albert Romano, John Leguizamo, Denis ...</td>\n",
       "      <td>[United States]</td>\n",
       "      <td>2021-11-26</td>\n",
       "      <td>2011</td>\n",
       "      <td>TV-G</td>\n",
       "      <td>23 min</td>\n",
       "      <td>[Animation, Comedy, Family]</td>\n",
       "      <td>Sid the Sloth is on Santa's naughty list.</td>\n",
       "      <td>Disney</td>\n",
       "    </tr>\n",
       "  </tbody>\n",
       "</table>\n",
       "</div>"
      ],
      "text/plain": [
       "  id type_id                                             title  \\\n",
       "0  0       1  Duck the Halls: A Mickey Mouse Christmas Special   \n",
       "1  1       1                            Ernest Saves Christmas   \n",
       "2  2       1                      Ice Age: A Mammoth Christmas   \n",
       "\n",
       "                            director  \\\n",
       "0  Alonso Ramirez Ramos, Dave Wasson   \n",
       "1                        John Cherry   \n",
       "2                       Karen Disher   \n",
       "\n",
       "                                                cast          country  \\\n",
       "0  [Chris Diamantopoulos, Tony Anselmo, Tress Mac...       No Country   \n",
       "1         [Jim Varney, Noelle Parker, Douglas Seale]       No Country   \n",
       "2  [Raymond Albert Romano, John Leguizamo, Denis ...  [United States]   \n",
       "\n",
       "  date_added release_year rating duration                    listed_in  \\\n",
       "0 2021-11-26         2016   TV-G   23 min          [Animation, Family]   \n",
       "1 2021-11-26         1988     PG   91 min                     [Comedy]   \n",
       "2 2021-11-26         2011   TV-G   23 min  [Animation, Comedy, Family]   \n",
       "\n",
       "                                         description  source  \n",
       "0   Join Mickey and the gang as they duck the halls!  Disney  \n",
       "1  Santa Claus passes his magic bag to a new St. ...  Disney  \n",
       "2          Sid the Sloth is on Santa's naughty list.  Disney  "
      ]
     },
     "execution_count": 36,
     "metadata": {},
     "output_type": "execute_result"
    }
   ],
   "source": [
    "df_disney.info()\n",
    "df_disney.shape\n",
    "df_disney.head(3)"
   ]
  },
  {
   "attachments": {},
   "cell_type": "markdown",
   "metadata": {},
   "source": [
    "- Dividimos los campos `cast`, `country` y `listed_in`."
   ]
  },
  {
   "cell_type": "code",
   "execution_count": 29,
   "metadata": {},
   "outputs": [],
   "source": [
    "df_disney['cast'] =      df_disney['cast'].str.split(', ').tolist()\n",
    "df_disney['country'] =   df_disney['country'].str.split(', ').tolist()\n",
    "df_disney['listed_in'] = df_disney['listed_in'].str.split(', ').tolist()"
   ]
  },
  {
   "attachments": {},
   "cell_type": "markdown",
   "metadata": {},
   "source": [
    "- Reemplazamos los NULL por valores default en las siguientes columnas:\n",
    "- `title`,  `director`,  `cast`,  `country`,\t `release_year`,  `rating`,\t`duration`,\t`listed_in`,\t`description`."
   ]
  },
  {
   "cell_type": "code",
   "execution_count": 30,
   "metadata": {},
   "outputs": [],
   "source": [
    "df_disney['title'] =        df_disney['title'].fillna(value='No Title')\n",
    "df_disney['director'] =     df_disney['director'].fillna(value='No Director')\n",
    "df_disney['cast'] =         df_disney['cast'].fillna(value='No Cast')\n",
    "df_disney['country'] =      df_disney['country'].fillna(value='No Country')\n",
    "df_disney['release_year'] = df_disney['release_year'].fillna(value=0)\n",
    "df_disney['rating'] =       df_disney['rating'].fillna(value='No Rating')\n",
    "df_disney['duration'] =     df_disney['duration'].fillna(value='No Duration')\n",
    "df_disney['listed_in'] =    df_disney['listed_in'].fillna(value='No Listed')"
   ]
  },
  {
   "attachments": {},
   "cell_type": "markdown",
   "metadata": {},
   "source": [
    "- `show_id` debería ser de tipo INT"
   ]
  },
  {
   "cell_type": "code",
   "execution_count": 31,
   "metadata": {},
   "outputs": [],
   "source": [
    "#Creamos una nueva columna llamada 'id' y eliminamos 'show_id'\n",
    "df_disney.insert(loc=0, column='id', value=range(len(df_disney)))\n",
    "df_disney.drop('show_id', inplace=True, axis=1)"
   ]
  },
  {
   "attachments": {},
   "cell_type": "markdown",
   "metadata": {},
   "source": [
    "- `type` debería contener solo el id correspondiente al tipo de show\n",
    "- la descripción del tipo de show debería estar en una tabla separada"
   ]
  },
  {
   "cell_type": "code",
   "execution_count": 32,
   "metadata": {},
   "outputs": [],
   "source": [
    "#Creamos una nueva columna seteada en 0 por default\n",
    "df_disney.insert(loc=1, column='type_id', value=0 )\n",
    "\n",
    "#Reemplazamos cada type por un valor entero asociado y eliminamos 'type'\n",
    "df_disney['type_id'] = df_disney['type'].replace({'Movie':1, 'TV Show':2})\n",
    "df_disney.drop('type', inplace=True, axis=1)"
   ]
  },
  {
   "attachments": {},
   "cell_type": "markdown",
   "metadata": {},
   "source": [
    "- `date_added` debería ser de tipo DATE y estar en formato dd/mm/yyyy"
   ]
  },
  {
   "cell_type": "code",
   "execution_count": 33,
   "metadata": {},
   "outputs": [],
   "source": [
    "#Reemplazamos los nulos con el valor más frecuente\n",
    "most_frequent_date = df_disney['date_added'].value_counts().index[0]\n",
    "df_disney[df_disney['date_added'].str.strip()==''] = most_frequent_date"
   ]
  },
  {
   "cell_type": "code",
   "execution_count": 34,
   "metadata": {},
   "outputs": [],
   "source": [
    "#Reemplazamos la coma por vacío\n",
    "df_disney['date_added'] = df_disney['date_added'].str.replace(',', '')\n",
    "\n",
    "#Convertimos a tipo datetime\n",
    "df_disney['date_added'] = pd.to_datetime(df_disney['date_added'], format='%B %d %Y')"
   ]
  },
  {
   "attachments": {},
   "cell_type": "markdown",
   "metadata": {},
   "source": [
    "- Por último, insertamos una columna que indica ser Disney."
   ]
  },
  {
   "cell_type": "code",
   "execution_count": 35,
   "metadata": {},
   "outputs": [],
   "source": [
    "df_disney['source'] = 'Disney'"
   ]
  }
 ],
 "metadata": {
  "kernelspec": {
   "display_name": "Python 3",
   "language": "python",
   "name": "python3"
  },
  "language_info": {
   "codemirror_mode": {
    "name": "ipython",
    "version": 3
   },
   "file_extension": ".py",
   "mimetype": "text/x-python",
   "name": "python",
   "nbconvert_exporter": "python",
   "pygments_lexer": "ipython3",
   "version": "3.11.0"
  },
  "orig_nbformat": 4,
  "vscode": {
   "interpreter": {
    "hash": "49c8da15cdc822ad39713f48388de10635b5c246026e638e26da4ece17e05043"
   }
  }
 },
 "nbformat": 4,
 "nbformat_minor": 2
}
