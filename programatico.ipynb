{
 "cells": [
  {
   "attachments": {},
   "cell_type": "markdown",
   "metadata": {},
   "source": [
    "### Programático"
   ]
  },
  {
   "cell_type": "code",
   "execution_count": 39,
   "metadata": {},
   "outputs": [],
   "source": [
    "from secret_credentials import acces_key, secret_acces_key, bucket_name\n",
    "import boto3\n",
    "from botocore.exceptions import ClientError\n",
    "import os\n",
    "\n",
    "#Nuestro primer paso es interactuar con la API para acceder a los recursos\n",
    "session = boto3.Session(aws_access_key_id = acces_key, \n",
    "                        aws_secret_access_key = secret_acces_key )\n",
    "\n",
    "s3 = session.resource('s3')\n",
    "\n",
    "bucket = s3.Bucket(bucket_name)\n",
    "\n",
    "def get_bucket_contents( bucket ):\n",
    "    \"\"\"Retorna una lista con los archivos contenidos en el bucket\n",
    "\n",
    "    Params\n",
    "        bucket: Objeto Bucket.\n",
    "    \"\"\"\n",
    "    list_files = []\n",
    "    for file in bucket.objects.all():\n",
    "        list_files.append(file.key)\n",
    "    return list_files\n",
    "\n",
    "def download_bucket_files( s3, bucket_name, file_names, dir ):\n",
    "    \"\"\"Descarga los archivos contenidos en el bucket s3.\n",
    "\n",
    "    Params\n",
    "        s3: Objeto s3.\n",
    "        bucket_name: Nombre del bucket.\n",
    "        file_names: Nombres de los archivos a descargar.\n",
    "        dir: Carpeta donde queremos almacenar los archivos descargados.\n",
    "    Return\n",
    "        None\n",
    "    \"\"\"\n",
    "    try:\n",
    "        for file in file_names:\n",
    "            s3.meta.client.download_file(Bucket=bucket_name, \n",
    "                                         Key=file, \n",
    "                                         Filename= f'{dir}\\{file}')\n",
    "    except FileNotFoundError as e:\n",
    "        print('No existe el directorio especificado')\n",
    "    except ClientError as e:\n",
    "        print('El/los archivos especificados a descargar no se encuentran en el bucket')"
   ]
  },
  {
   "cell_type": "code",
   "execution_count": 2,
   "metadata": {},
   "outputs": [],
   "source": [
    "file_names = get_bucket_contents(bucket=bucket)\n",
    "download_bucket_files( s3, bucket_name, file_names, dir='data')"
   ]
  },
  {
   "cell_type": "code",
   "execution_count": null,
   "metadata": {},
   "outputs": [],
   "source": []
  }
 ],
 "metadata": {
  "kernelspec": {
   "display_name": "Python 3",
   "language": "python",
   "name": "python3"
  },
  "language_info": {
   "codemirror_mode": {
    "name": "ipython",
    "version": 3
   },
   "file_extension": ".py",
   "mimetype": "text/x-python",
   "name": "python",
   "nbconvert_exporter": "python",
   "pygments_lexer": "ipython3",
   "version": "3.11.0"
  },
  "orig_nbformat": 4,
  "vscode": {
   "interpreter": {
    "hash": "49c8da15cdc822ad39713f48388de10635b5c246026e638e26da4ece17e05043"
   }
  }
 },
 "nbformat": 4,
 "nbformat_minor": 2
}
